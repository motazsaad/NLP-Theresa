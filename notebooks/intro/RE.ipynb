{
 "cells": [
  {
   "cell_type": "code",
   "execution_count": 2,
   "metadata": {},
   "outputs": [],
   "source": [
    "# RE "
   ]
  },
  {
   "cell_type": "code",
   "execution_count": 3,
   "metadata": {},
   "outputs": [],
   "source": [
    "import re"
   ]
  },
  {
   "cell_type": "markdown",
   "metadata": {},
   "source": [
    "# Common fucntions "
   ]
  },
  {
   "cell_type": "markdown",
   "metadata": {},
   "source": [
    "## match"
   ]
  },
  {
   "cell_type": "code",
   "execution_count": 4,
   "metadata": {},
   "outputs": [
    {
     "name": "stdout",
     "output_type": "stream",
     "text": [
      "Match found: Hello\n"
     ]
    }
   ],
   "source": [
    "result = re.match(r'Hello', 'Hello, world!')\n",
    "if result:\n",
    "    print(\"Match found:\", result.group())"
   ]
  },
  {
   "cell_type": "markdown",
   "metadata": {},
   "source": [
    "## search"
   ]
  },
  {
   "cell_type": "code",
   "execution_count": 5,
   "metadata": {},
   "outputs": [
    {
     "name": "stdout",
     "output_type": "stream",
     "text": [
      "Search found: world\n"
     ]
    }
   ],
   "source": [
    "result = re.search(r'world', 'Hello, world!')\n",
    "if result:\n",
    "    print(\"Search found:\", result.group())\n"
   ]
  },
  {
   "cell_type": "markdown",
   "metadata": {},
   "source": [
    "## findall"
   ]
  },
  {
   "cell_type": "code",
   "execution_count": 6,
   "metadata": {},
   "outputs": [
    {
     "name": "stdout",
     "output_type": "stream",
     "text": [
      "Find all numbers: ['2', '3']\n"
     ]
    }
   ],
   "source": [
    "results = re.findall(r'\\d+', 'There are 2 apples and 3 oranges.')\n",
    "print(\"Find all numbers:\", results)\n"
   ]
  },
  {
   "cell_type": "markdown",
   "metadata": {},
   "source": [
    "## sub"
   ]
  },
  {
   "cell_type": "code",
   "execution_count": 7,
   "metadata": {},
   "outputs": [
    {
     "name": "stdout",
     "output_type": "stream",
     "text": [
      "Replaced string: I have bananas and oranges.\n"
     ]
    }
   ],
   "source": [
    "new_string = re.sub(r'apples', 'bananas', 'I have apples and oranges.')\n",
    "print(\"Replaced string:\", new_string)\n"
   ]
  },
  {
   "cell_type": "markdown",
   "metadata": {},
   "source": [
    "## split"
   ]
  },
  {
   "cell_type": "code",
   "execution_count": 8,
   "metadata": {},
   "outputs": [
    {
     "name": "stdout",
     "output_type": "stream",
     "text": [
      "Split parts: ['Split', 'this', 'string', 'by', 'spaces.']\n"
     ]
    }
   ],
   "source": [
    "parts = re.split(r'\\s+', 'Split this string by spaces.')\n",
    "print(\"Split parts:\", parts)\n"
   ]
  },
  {
   "cell_type": "markdown",
   "metadata": {},
   "source": [
    "this code demonstrates how to use the re module to:\n",
    "\n",
    "1. Search for a specific phone number format in a string.\n",
    "2. Search for an email address format in a string.\n",
    "3. Find all sequences of digits in the string.\n"
   ]
  },
  {
   "cell_type": "code",
   "execution_count": 9,
   "metadata": {},
   "outputs": [
    {
     "name": "stdout",
     "output_type": "stream",
     "text": [
      "Phone number found: 123-456-7890\n",
      "Email found: example@example.com\n",
      "All digits found: ['123', '456', '7890']\n"
     ]
    }
   ],
   "source": [
    "import re\n",
    "\n",
    "text = \"My phone number is 123-456-7890 and my email is example@example.com.\"\n",
    "\n",
    "# Match phone number\n",
    "phone_pattern = r'\\d{3}-\\d{3}-\\d{4}'\n",
    "phone_match = re.search(phone_pattern, text)\n",
    "if phone_match:\n",
    "    print(\"Phone number found:\", phone_match.group())\n",
    "\n",
    "# Find email\n",
    "email_pattern = r'[a-zA-Z0-9._%+-]+@[a-zA-Z0-9.-]+\\.[a-zA-Z]{2,}'\n",
    "email_match = re.search(email_pattern, text)\n",
    "if email_match:\n",
    "    print(\"Email found:\", email_match.group())\n",
    "\n",
    "# Find all digits\n",
    "digits = re.findall(r'\\d+', text)\n",
    "print(\"All digits found:\", digits)\n"
   ]
  },
  {
   "cell_type": "markdown",
   "metadata": {},
   "source": [
    "# Multiplicity \n",
    "\n",
    "\n",
    "In regular expressions, the characters ?, *, +, and . are special metacharacters that control how patterns match strings. Here’s a breakdown of each one, along with examples of how to use them in Python with the re module."
   ]
  },
  {
   "cell_type": "markdown",
   "metadata": {},
   "source": [
    "The ? metacharacter matches 0 or 1 occurrence of the preceding element. It makes the preceding character or group optional."
   ]
  },
  {
   "cell_type": "code",
   "execution_count": 10,
   "metadata": {},
   "outputs": [
    {
     "name": "stdout",
     "output_type": "stream",
     "text": [
      "Matches for 'color' or 'colour': ['color', 'colour']\n"
     ]
    }
   ],
   "source": [
    "import re\n",
    "\n",
    "text = \"color colour\"\n",
    "pattern = r'colou?r'  # The 'u' is optional\n",
    "\n",
    "matches = re.findall(pattern, text)\n",
    "print(\"Matches for 'color' or 'colour':\", matches)\n"
   ]
  },
  {
   "cell_type": "markdown",
   "metadata": {},
   "source": [
    "The * metacharacter matches 0 or more occurrences of the preceding element."
   ]
  },
  {
   "cell_type": "code",
   "execution_count": 11,
   "metadata": {},
   "outputs": [
    {
     "name": "stdout",
     "output_type": "stream",
     "text": [
      "Matches for 'a*': ['aaa', '', '', 'a', '', '', '', 'aaaa', '']\n"
     ]
    }
   ],
   "source": [
    "import re\n",
    "\n",
    "text = \"aaab acd aaaa\"\n",
    "pattern = r'a*'  # Matches zero or more 'a's\n",
    "\n",
    "matches = re.findall(pattern, text)\n",
    "print(\"Matches for 'a*':\", matches)\n"
   ]
  },
  {
   "cell_type": "markdown",
   "metadata": {},
   "source": [
    "The + metacharacter matches 1 or more occurrences of the preceding element. It requires at least one occurrence."
   ]
  },
  {
   "cell_type": "code",
   "execution_count": 12,
   "metadata": {},
   "outputs": [
    {
     "name": "stdout",
     "output_type": "stream",
     "text": [
      "Matches for 'a+': ['aaa', 'a', 'aaaa']\n"
     ]
    }
   ],
   "source": [
    "import re\n",
    "\n",
    "text = \"aaab acd aaaa\"\n",
    "pattern = r'a+'  # Matches one or more 'a's\n",
    "\n",
    "matches = re.findall(pattern, text)\n",
    "print(\"Matches for 'a+':\", matches)\n"
   ]
  },
  {
   "cell_type": "markdown",
   "metadata": {},
   "source": [
    "The . metacharacter matches any single character except a newline."
   ]
  },
  {
   "cell_type": "code",
   "execution_count": 13,
   "metadata": {},
   "outputs": [
    {
     "name": "stdout",
     "output_type": "stream",
     "text": [
      "Matches for '.at': ['cat', 'bat', 'rat']\n"
     ]
    }
   ],
   "source": [
    "import re\n",
    "\n",
    "text = \"cat bat rat\"\n",
    "pattern = r'.at'  # Matches any character followed by 'at'\n",
    "\n",
    "matches = re.findall(pattern, text)\n",
    "print(\"Matches for '.at':\", matches)\n"
   ]
  },
  {
   "cell_type": "code",
   "execution_count": 15,
   "metadata": {},
   "outputs": [
    {
     "name": "stdout",
     "output_type": "stream",
     "text": [
      "'h!' does not match the pattern.\n",
      "'oh!' matches the pattern.\n",
      "'oooh!' matches the pattern.\n",
      "'ooooooh!' matches the pattern.\n",
      "'o!' does not match the pattern.\n",
      "'oo!' does not match the pattern.\n",
      "'h' does not match the pattern.\n",
      "'oh' does not match the pattern.\n",
      "'oooh' does not match the pattern.\n"
     ]
    }
   ],
   "source": [
    "import re\n",
    "\n",
    "# Define the regular expression pattern\n",
    "pattern = r'o+h!'\n",
    "\n",
    "# List of test strings\n",
    "test_strings = [\n",
    "    'h!',        # Does not match\n",
    "    'oh!',       # Matches\n",
    "    'oooh!',     # Matches\n",
    "    'ooooooh!',  # Matches\n",
    "    'o!',        # Does not match\n",
    "    'oo!',       # Does not match\n",
    "    'h',         # Does not match\n",
    "    'oh',        # Does not match\n",
    "    'oooh',      # Does not match\n",
    "]\n",
    "\n",
    "# Check each string against the pattern\n",
    "for string in test_strings:\n",
    "    if re.match(pattern, string):\n",
    "        print(f\"'{string}' matches the pattern.\")\n",
    "    else:\n",
    "        print(f\"'{string}' does not match the pattern.\")\n"
   ]
  },
  {
   "cell_type": "code",
   "execution_count": 17,
   "metadata": {},
   "outputs": [
    {
     "name": "stdout",
     "output_type": "stream",
     "text": [
      "'woodchuck' matches the pattern.\n",
      "'Woodchuck' matches the pattern.\n",
      "'woodchucks' matches the pattern.\n",
      "'Woodchucks' matches the pattern.\n",
      "'woodchuck!' matches the pattern.\n",
      "'Woodchuck!' matches the pattern.\n"
     ]
    }
   ],
   "source": [
    "import re\n",
    "\n",
    "# Define the regular expression pattern\n",
    "pattern = r'[wW]oodchuck'\n",
    "\n",
    "# Paragraph of test strings\n",
    "paragraph = \"\"\"\n",
    "In a small forest, there lived a woodchuck who loved to dig. One day, the Woodchuck decided to explore beyond its usual burrow. However, it noticed that the oodchuck was not a friendly creature. Nearby, a Wodchuck was trying to find its way home. The woodchucks were busy gathering food for the winter, while the Woodchucks were preparing for a big celebration. Suddenly, the woodchuck! and the Woodchuck! heard a rustling noise in the bushes.\n",
    "\"\"\"\n",
    "\n",
    "# Split the paragraph into words for testing\n",
    "test_strings = paragraph.split()\n",
    "\n",
    "# Check each string against the pattern\n",
    "for string in test_strings:\n",
    "    if re.match(pattern, string):\n",
    "        print(f\"'{string}' matches the pattern.\")\n",
    "\n"
   ]
  },
  {
   "cell_type": "code",
   "execution_count": 19,
   "metadata": {},
   "outputs": [
    {
     "name": "stdout",
     "output_type": "stream",
     "text": [
      "a, woodchuck, who\n",
      "the, Woodchuck, decided\n",
      "The, woodchuck, s\n",
      "the, Woodchuck, s\n",
      "the, woodchuck, !\n",
      "the, Woodchuck, !\n"
     ]
    }
   ],
   "source": [
    "import re\n",
    "\n",
    "# Define the regular expression pattern\n",
    "pattern = r'[wW]oodchuck'\n",
    "\n",
    "# Paragraph of test strings\n",
    "paragraph = \"\"\"\n",
    "In a small forest, there lived a woodchuck who loved to dig. One day, the Woodchuck decided to explore beyond its usual burrow. However, it noticed that the oodchuck was not a friendly creature. Nearby, a Wodchuck was trying to find its way home. The woodchucks were busy gathering food for the winter, while the Woodchucks were preparing for a big celebration. Suddenly, the woodchuck! and the Woodchuck! heard a rustling noise in the bushes.\n",
    "\"\"\"\n",
    "\n",
    "# Find all matches and their contexts\n",
    "matches = re.finditer(pattern, paragraph)\n",
    "\n",
    "# Print the context of each matched pattern\n",
    "for match in matches:\n",
    "    start, end = match.span()\n",
    "    # Get the previous word and the next word\n",
    "    words = paragraph[:start].split()\n",
    "    previous_word = words[-1] if words else ''  # Get the last word before the match\n",
    "    next_word = paragraph[end:].split()[0] if paragraph[end:].split() else ''  # Get the first word after the match\n",
    "    print(f\"{previous_word}, {match.group()}, {next_word}\")\n"
   ]
  },
  {
   "cell_type": "markdown",
   "metadata": {},
   "source": [
    "## Summary\n",
    "```\n",
    "? makes the preceding character or group optional (0 or 1 occurrence).\n",
    "* matches 0 or more occurrences of the preceding character or group.\n",
    "+ matches 1 or more occurrences of the preceding character or group.\n",
    ". matches any single character except a newline.\n",
    "```\n",
    "These metacharacters are fundamental in constructing regular expressions and can be combined with other elements to create complex patterns for string matching and manipulation."
   ]
  }
 ],
 "metadata": {
  "kernelspec": {
   "display_name": "nlp",
   "language": "python",
   "name": "python3"
  },
  "language_info": {
   "codemirror_mode": {
    "name": "ipython",
    "version": 3
   },
   "file_extension": ".py",
   "mimetype": "text/x-python",
   "name": "python",
   "nbconvert_exporter": "python",
   "pygments_lexer": "ipython3",
   "version": "3.12.7"
  }
 },
 "nbformat": 4,
 "nbformat_minor": 2
}
