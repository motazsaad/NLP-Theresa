{
 "cells": [
  {
   "cell_type": "code",
   "execution_count": 1,
   "metadata": {},
   "outputs": [
    {
     "name": "stdout",
     "output_type": "stream",
     "text": [
      "Mario Rossi: PERSON\n",
      "Fiat Chrysler: PERSON\n",
      "Fiat Chrysler: ORGANIZATION\n",
      "Turin: LOCATION\n"
     ]
    }
   ],
   "source": [
    "import re\n",
    "\n",
    "# Sample input sentence\n",
    "sentence = \"Mario Rossi works at Fiat Chrysler Automobiles in Turin.\"\n",
    "\n",
    "# Define rules for identifying entities\n",
    "def extract_entities(text):\n",
    "    entities = []\n",
    "\n",
    "    # Rule for identifying person names (two capitalized words)\n",
    "    person_pattern = r'\\b([A-Z][a-z]+) ([A-Z][a-z]+)\\b'\n",
    "    person_matches = re.findall(person_pattern, text)\n",
    "    for match in person_matches:\n",
    "        entities.append((f\"{match[0]} {match[1]}\", \"PERSON\"))\n",
    "\n",
    "    # Rule for identifying organization names (capitalized words followed by specific keywords)\n",
    "    org_pattern = r'\\b([A-Z][a-z]+(?: [A-Z][a-z]+)*) (Inc\\.|Ltd\\.|Corporation|Automobiles)\\b'\n",
    "    org_matches = re.findall(org_pattern, text)\n",
    "    for match in org_matches:\n",
    "        entities.append((match[0], \"ORGANIZATION\"))\n",
    "\n",
    "    # Rule for identifying location names (capitalized words that are known locations)\n",
    "    location_pattern = r'\\b([A-Z][a-z]+)\\b'\n",
    "    location_matches = re.findall(location_pattern, text)\n",
    "    known_locations = [\"Turin\", \"Rome\", \"Milan\"]  # Example known locations\n",
    "    for match in location_matches:\n",
    "        if match in known_locations:\n",
    "            entities.append((match, \"LOCATION\"))\n",
    "\n",
    "    return entities\n",
    "\n",
    "# Extract entities from the sentence\n",
    "extracted_entities = extract_entities(sentence)\n",
    "\n",
    "# Print the results\n",
    "for entity, entity_type in extracted_entities:\n",
    "    print(f\"{entity}: {entity_type}\")\n"
   ]
  },
  {
   "cell_type": "code",
   "execution_count": 3,
   "metadata": {},
   "outputs": [
    {
     "data": {
      "text/plain": [
       "[('Motaz Saad', 'PERSON')]"
      ]
     },
     "execution_count": 3,
     "metadata": {},
     "output_type": "execute_result"
    }
   ],
   "source": [
    "extract_entities(\"My name is Motaz Saad, and I love University of Salento\")"
   ]
  }
 ],
 "metadata": {
  "kernelspec": {
   "display_name": "nlp",
   "language": "python",
   "name": "python3"
  },
  "language_info": {
   "codemirror_mode": {
    "name": "ipython",
    "version": 3
   },
   "file_extension": ".py",
   "mimetype": "text/x-python",
   "name": "python",
   "nbconvert_exporter": "python",
   "pygments_lexer": "ipython3",
   "version": "3.12.7"
  }
 },
 "nbformat": 4,
 "nbformat_minor": 2
}
