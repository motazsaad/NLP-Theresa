{
 "cells": [
  {
   "cell_type": "markdown",
   "metadata": {},
   "source": [
    "# Using spaCy for NER\n",
    "\n",
    "https://spacy.io/models/"
   ]
  },
  {
   "cell_type": "code",
   "execution_count": 4,
   "metadata": {},
   "outputs": [
    {
     "name": "stdout",
     "output_type": "stream",
     "text": [
      "Collecting en-core-web-sm==3.8.0\n",
      "  Downloading https://github.com/explosion/spacy-models/releases/download/en_core_web_sm-3.8.0/en_core_web_sm-3.8.0-py3-none-any.whl (12.8 MB)\n",
      "     ---------------------------------------- 0.0/12.8 MB ? eta -:--:--\n",
      "     - -------------------------------------- 0.5/12.8 MB 4.2 MB/s eta 0:00:03\n",
      "     ---- ----------------------------------- 1.3/12.8 MB 3.9 MB/s eta 0:00:03\n",
      "     ------ --------------------------------- 2.1/12.8 MB 3.9 MB/s eta 0:00:03\n",
      "     --------- ------------------------------ 2.9/12.8 MB 4.0 MB/s eta 0:00:03\n",
      "     ----------- ---------------------------- 3.7/12.8 MB 4.0 MB/s eta 0:00:03\n",
      "     ------------- -------------------------- 4.5/12.8 MB 3.9 MB/s eta 0:00:03\n",
      "     ----------------- ---------------------- 5.5/12.8 MB 3.9 MB/s eta 0:00:02\n",
      "     ------------------ --------------------- 6.0/12.8 MB 4.0 MB/s eta 0:00:02\n",
      "     ---------------------- ----------------- 7.1/12.8 MB 3.9 MB/s eta 0:00:02\n",
      "     ------------------------ --------------- 7.9/12.8 MB 3.9 MB/s eta 0:00:02\n",
      "     --------------------------- ------------ 8.7/12.8 MB 3.9 MB/s eta 0:00:02\n",
      "     ----------------------------- ---------- 9.4/12.8 MB 3.9 MB/s eta 0:00:01\n",
      "     ------------------------------- -------- 10.2/12.8 MB 3.9 MB/s eta 0:00:01\n",
      "     ---------------------------------- ----- 11.0/12.8 MB 3.9 MB/s eta 0:00:01\n",
      "     ------------------------------------ --- 11.8/12.8 MB 3.9 MB/s eta 0:00:01\n",
      "     ---------------------------------------  12.6/12.8 MB 3.9 MB/s eta 0:00:01\n",
      "     ---------------------------------------- 12.8/12.8 MB 3.8 MB/s eta 0:00:00\n",
      "Installing collected packages: en-core-web-sm\n",
      "Successfully installed en-core-web-sm-3.8.0\n",
      "\u001b[38;5;2m✔ Download and installation successful\u001b[0m\n",
      "You can now load the package via spacy.load('en_core_web_sm')\n"
     ]
    }
   ],
   "source": [
    "!python -m spacy download en_core_web_sm"
   ]
  },
  {
   "cell_type": "code",
   "execution_count": 5,
   "metadata": {},
   "outputs": [
    {
     "name": "stdout",
     "output_type": "stream",
     "text": [
      "Mario Rossi: PERSON\n",
      "Fiat Chrysler Automobiles: ORG\n",
      "Turin: GPE\n"
     ]
    }
   ],
   "source": [
    "import spacy\n",
    "\n",
    "# Load the pre-trained English NER model\n",
    "nlp = spacy.load(\"en_core_web_sm\")\n",
    "\n",
    "# Sample input sentence\n",
    "sentence = \"Mario Rossi works at Fiat Chrysler Automobiles in Turin.\"\n",
    "\n",
    "# Process the sentence with the NER model\n",
    "doc = nlp(sentence)\n",
    "\n",
    "# Extract and print named entities\n",
    "for ent in doc.ents:\n",
    "    print(f\"{ent.text}: {ent.label_}\")\n"
   ]
  },
  {
   "cell_type": "markdown",
   "metadata": {},
   "source": [
    "# Custom Training "
   ]
  },
  {
   "cell_type": "code",
   "execution_count": 6,
   "metadata": {},
   "outputs": [
    {
     "name": "stderr",
     "output_type": "stream",
     "text": [
      "d:\\motaz\\anaconda3\\envs\\nlp\\Lib\\site-packages\\spacy\\training\\iob_utils.py:149: UserWarning: [W030] Some entities could not be aligned in the text \"Mario Rossi works at Fiat Chrysler Automobiles in ...\" with entities \"[(0, 12, 'PERSON'), (22, 45, 'ORG'), (49, 54, 'GPE...\". Use `spacy.training.offsets_to_biluo_tags(nlp.make_doc(text), entities)` to check the alignment. Misaligned entities ('-') will be ignored during training.\n",
      "  warnings.warn(\n"
     ]
    }
   ],
   "source": [
    "TRAIN_DATA = [\n",
    "    (\"Mario Rossi works at Fiat Chrysler Automobiles in Turin.\", \n",
    "     {\"entities\": [(0, 12, \"PERSON\"), (22, 45, \"ORG\"), (49, 54, \"GPE\")]}),\n",
    "    # Add more training examples here\n",
    "]\n",
    "\n",
    "import spacy\n",
    "from spacy.training import Example\n",
    "\n",
    "# Load the pre-trained model\n",
    "nlp = spacy.load(\"en_core_web_sm\")\n",
    "ner = nlp.get_pipe(\"ner\")\n",
    "\n",
    "# Add new entity labels\n",
    "ner.add_label(\"PERSON\")\n",
    "ner.add_label(\"ORG\")\n",
    "ner.add_label(\"GPE\")\n",
    "\n",
    "# Prepare the training data\n",
    "examples = []\n",
    "for text, annotations in TRAIN_DATA:\n",
    "    doc = nlp.make_doc(text)\n",
    "    example = Example.from_dict(doc, annotations)\n",
    "    examples.append(example)\n",
    "\n",
    "# Train the model\n",
    "nlp.update(examples)\n",
    "\n",
    "# Save the model\n",
    "nlp.to_disk(\"custom_ner_model\")\n"
   ]
  },
  {
   "cell_type": "markdown",
   "metadata": {},
   "source": [
    "# load custom model "
   ]
  },
  {
   "cell_type": "code",
   "execution_count": 7,
   "metadata": {},
   "outputs": [
    {
     "name": "stdout",
     "output_type": "stream",
     "text": [
      "Mario Rossi: PERSON\n",
      "Fiat Chrysler Automobiles: ORG\n",
      "Turin: GPE\n"
     ]
    }
   ],
   "source": [
    "import spacy\n",
    "\n",
    "# Load the custom NER model\n",
    "nlp_custom = spacy.load(\"custom_ner_model\")\n",
    "\n",
    "# Sample input sentence\n",
    "sentence = \"Mario Rossi works at Fiat Chrysler Automobiles in Turin.\"\n",
    "\n",
    "# Process the sentence with the custom NER model\n",
    "doc_custom = nlp_custom(sentence)\n",
    "\n",
    "# Extract and print named entities\n",
    "for ent in doc_custom.ents:\n",
    "    print(f\"{ent.text}: {ent.label_}\")\n"
   ]
  }
 ],
 "metadata": {
  "kernelspec": {
   "display_name": "nlp",
   "language": "python",
   "name": "python3"
  },
  "language_info": {
   "codemirror_mode": {
    "name": "ipython",
    "version": 3
   },
   "file_extension": ".py",
   "mimetype": "text/x-python",
   "name": "python",
   "nbconvert_exporter": "python",
   "pygments_lexer": "ipython3",
   "version": "3.12.7"
  }
 },
 "nbformat": 4,
 "nbformat_minor": 2
}
