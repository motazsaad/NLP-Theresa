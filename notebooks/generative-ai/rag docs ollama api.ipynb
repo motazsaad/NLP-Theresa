{
 "cells": [
  {
   "cell_type": "markdown",
   "metadata": {},
   "source": [
    "# Create an API Function\n"
   ]
  },
  {
   "cell_type": "code",
   "execution_count": 1,
   "metadata": {},
   "outputs": [],
   "source": [
    "from requests import post as rpost\n",
    "\n",
    "def call_llama(prompt):\n",
    "    headers = {\"Content-Type\": \"application/json\"}\n",
    "    payload = {\n",
    "        \"model\": \"llama3.1\",\n",
    "        \"prompt\": prompt,\n",
    "        \"stream\": False,\n",
    "    }\n",
    "\n",
    "    response = rpost(\n",
    "        \"http://localhost:11434/api/generate\",\n",
    "        headers=headers,\n",
    "        json=payload\n",
    "    )\n",
    "    return response.json()[\"response\"]\n",
    "\n",
    "# or use ollama python library "
   ]
  },
  {
   "cell_type": "markdown",
   "metadata": {},
   "source": [
    "# Say hello to the LLM"
   ]
  },
  {
   "cell_type": "code",
   "execution_count": 2,
   "metadata": {},
   "outputs": [
    {
     "data": {
      "text/plain": [
       "'Hello! How are you today? Is there something I can help you with or would you like to chat?'"
      ]
     },
     "execution_count": 2,
     "metadata": {},
     "output_type": "execute_result"
    }
   ],
   "source": [
    "call_llama(prompt=\"hello\")"
   ]
  },
  {
   "cell_type": "markdown",
   "metadata": {},
   "source": [
    "# Create a LangChain LLM\n"
   ]
  },
  {
   "cell_type": "code",
   "execution_count": 3,
   "metadata": {},
   "outputs": [],
   "source": [
    "from langchain_core.language_models.llms import LLM\n",
    "\n",
    "class LLaMa(LLM):\n",
    "    def _call(self, prompt, **kwargs):\n",
    "        return call_llama(prompt)\n",
    "\n",
    "    @property\n",
    "    def _llm_type(self):\n",
    "        return \"llama-3.1-8b\""
   ]
  },
  {
   "cell_type": "markdown",
   "metadata": {},
   "source": [
    "# Docs"
   ]
  },
  {
   "cell_type": "code",
   "execution_count": 4,
   "metadata": {},
   "outputs": [],
   "source": [
    "# could be loaded from pdfs or company website \n",
    "documents = [\n",
    "    {\"content\": \"What is your return policy? Our return policy allows customers to return items within 30 days of purchase for a full refund.\"},\n",
    "    {\"content\": \"How long does shipping take? Standard shipping typically takes 5-7 business days, while expedited shipping takes 2-3 business days.\"},\n",
    "    {\"content\": \"Do you offer international shipping? Yes, we offer international shipping to select countries. Please check our website for more details.\"},\n",
    "    {\"content\": \"What payment methods do you accept? We accept all major credit cards, PayPal, and Apple Pay.\"},\n",
    "    {\"content\": \"How can I track my order? You can track your order using the tracking link provided in your confirmation email.\"},\n",
    "    {\"content\": \"What should I do if I receive a damaged item? If you receive a damaged item, please contact our customer service within 48 hours for assistance.\"},\n",
    "    {\"content\": \"Can I change or cancel my order? You can change or cancel your order within 1 hour of placing it. After that, it may be processed for shipping.\"},\n",
    "    {\"content\": \"Do you have a loyalty program? Yes, we have a loyalty program that rewards customers with points for every purchase, which can be redeemed for discounts.\"},\n",
    "    {\"content\": \"What is your privacy policy? Our privacy policy outlines how we collect, use, and protect your personal information.\"},\n",
    "    {\"content\": \"How can I contact customer support? You can contact customer support via email at support@example.com or by calling our hotline at 1-800-555-0199.\"},\n",
    "]\n"
   ]
  },
  {
   "cell_type": "markdown",
   "metadata": {},
   "source": [
    "# Embeddings"
   ]
  },
  {
   "cell_type": "code",
   "execution_count": 5,
   "metadata": {},
   "outputs": [
    {
     "name": "stderr",
     "output_type": "stream",
     "text": [
      "C:\\Users\\Motaz PC\\AppData\\Local\\Temp\\ipykernel_42228\\1939657843.py:1: TqdmExperimentalWarning: Using `tqdm.autonotebook.tqdm` in notebook mode. Use `tqdm.tqdm` instead to force console mode (e.g. in jupyter console)\n",
      "  from tqdm.autonotebook import tqdm, trange # to show progress\n"
     ]
    },
    {
     "name": "stdout",
     "output_type": "stream",
     "text": [
      "WARNING:tensorflow:From d:\\motaz\\anaconda3\\envs\\nlp\\Lib\\site-packages\\tf_keras\\src\\losses.py:2976: The name tf.losses.sparse_softmax_cross_entropy is deprecated. Please use tf.compat.v1.losses.sparse_softmax_cross_entropy instead.\n",
      "\n"
     ]
    }
   ],
   "source": [
    "from tqdm.autonotebook import tqdm, trange # to show progress \n",
    "from langchain.vectorstores import FAISS\n",
    "from langchain_huggingface import HuggingFaceEmbeddings\n",
    "\n",
    "\n",
    "\n",
    "texts = [doc[\"content\"] for doc in documents]\n",
    "\n",
    "retriever = FAISS.from_texts(\n",
    "    texts,\n",
    "    HuggingFaceEmbeddings(model_name=\"all-MiniLM-L6-v2\")\n",
    ").as_retriever(k=5)"
   ]
  },
  {
   "cell_type": "markdown",
   "metadata": {},
   "source": [
    "# Create the Prompt Template"
   ]
  },
  {
   "cell_type": "code",
   "execution_count": 6,
   "metadata": {},
   "outputs": [],
   "source": [
    "from langchain.prompts import ChatPromptTemplate, MessagesPlaceholder\n",
    "\n",
    "faq_template = \"\"\"\n",
    "You are a chat agent for my E-Commerce Company. As a chat agent, it is your duty to help the human with their inquiry and make them a happy customer.\n",
    "\n",
    "Help them, using the following context:\n",
    "<context>\n",
    "{context}\n",
    "</context>\n",
    "\"\"\"\n",
    "\n",
    "faq_prompt = ChatPromptTemplate.from_messages([\n",
    "    (\"system\", faq_template),\n",
    "    MessagesPlaceholder(\"messages\")\n",
    "])"
   ]
  },
  {
   "cell_type": "markdown",
   "metadata": {},
   "source": [
    "# Create Document and Retriever Chains\n"
   ]
  },
  {
   "cell_type": "code",
   "execution_count": 7,
   "metadata": {},
   "outputs": [],
   "source": [
    "from langchain.chains.combine_documents import create_stuff_documents_chain\n",
    "from langchain_core.runnables import RunnableParallel, RunnablePassthrough\n",
    "\n",
    "document_chain = create_stuff_documents_chain(LLaMa(), faq_prompt)\n",
    "\n",
    "def parse_retriever_input(params):\n",
    "    return params[\"messages\"][-1].content\n",
    "\n",
    "retrieval_chain = RunnablePassthrough.assign(\n",
    "    context=parse_retriever_input | retriever\n",
    ").assign(answer=document_chain)"
   ]
  },
  {
   "cell_type": "markdown",
   "metadata": {},
   "source": [
    "# Prompt Your RAG Agent\n"
   ]
  },
  {
   "cell_type": "code",
   "execution_count": 8,
   "metadata": {},
   "outputs": [
    {
     "name": "stdout",
     "output_type": "stream",
     "text": [
      "{'messages': [HumanMessage(content='I received a damaged item. I want my money back.', additional_kwargs={}, response_metadata={})], 'context': [Document(metadata={}, page_content='What should I do if I receive a damaged item? If you receive a damaged item, please contact our customer service within 48 hours for assistance.'), Document(metadata={}, page_content='What is your return policy? Our return policy allows customers to return items within 30 days of purchase for a full refund.'), Document(metadata={}, page_content='How can I contact customer support? You can contact customer support via email at support@example.com or by calling our hotline at 1-800-555-0199.'), Document(metadata={}, page_content='Can I change or cancel my order? You can change or cancel your order within 1 hour of placing it. After that, it may be processed for shipping.')], 'answer': \"I'm so sorry to hear that you received a damaged item.\\n\\nDon't worry, we're here to help! According to our policies, if you receive a damaged item, please contact our customer service within 48 hours for assistance. You can reach us via email at support@example.com or by calling our hotline at 1-800-555-0199.\\n\\nCan I provide you with the details on how to proceed? We'll be happy to assist you in getting a full refund or replacing the damaged item, whichever you prefer!\"}\n"
     ]
    }
   ],
   "source": [
    "from langchain.schema import HumanMessage\n",
    "\n",
    "response = retrieval_chain.invoke({\n",
    "    \"messages\": [\n",
    "        HumanMessage(\"I received a damaged item. I want my money back.\")\n",
    "    ]\n",
    "})\n",
    "\n",
    "print(response)"
   ]
  },
  {
   "cell_type": "code",
   "execution_count": 11,
   "metadata": {},
   "outputs": [
    {
     "data": {
      "text/plain": [
       "dict_keys(['messages', 'context', 'answer'])"
      ]
     },
     "execution_count": 11,
     "metadata": {},
     "output_type": "execute_result"
    }
   ],
   "source": [
    "response.keys()"
   ]
  },
  {
   "cell_type": "code",
   "execution_count": 9,
   "metadata": {},
   "outputs": [
    {
     "data": {
      "text/plain": [
       "[HumanMessage(content='I received a damaged item. I want my money back.', additional_kwargs={}, response_metadata={})]"
      ]
     },
     "execution_count": 9,
     "metadata": {},
     "output_type": "execute_result"
    }
   ],
   "source": [
    "response['messages']"
   ]
  },
  {
   "cell_type": "code",
   "execution_count": 10,
   "metadata": {},
   "outputs": [
    {
     "data": {
      "text/plain": [
       "[Document(metadata={}, page_content='What should I do if I receive a damaged item? If you receive a damaged item, please contact our customer service within 48 hours for assistance.'),\n",
       " Document(metadata={}, page_content='What is your return policy? Our return policy allows customers to return items within 30 days of purchase for a full refund.'),\n",
       " Document(metadata={}, page_content='How can I contact customer support? You can contact customer support via email at support@example.com or by calling our hotline at 1-800-555-0199.'),\n",
       " Document(metadata={}, page_content='Can I change or cancel my order? You can change or cancel your order within 1 hour of placing it. After that, it may be processed for shipping.')]"
      ]
     },
     "execution_count": 10,
     "metadata": {},
     "output_type": "execute_result"
    }
   ],
   "source": [
    "response['context']"
   ]
  },
  {
   "cell_type": "code",
   "execution_count": 13,
   "metadata": {},
   "outputs": [
    {
     "name": "stdout",
     "output_type": "stream",
     "text": [
      "I'm so sorry to hear that you received a damaged item.\n",
      "\n",
      "Don't worry, we're here to help! According to our policies, if you receive a damaged item, please contact our customer service within 48 hours for assistance. You can reach us via email at support@example.com or by calling our hotline at 1-800-555-0199.\n",
      "\n",
      "Can I provide you with the details on how to proceed? We'll be happy to assist you in getting a full refund or replacing the damaged item, whichever you prefer!\n"
     ]
    }
   ],
   "source": [
    "print(response['answer'])"
   ]
  }
 ],
 "metadata": {
  "kernelspec": {
   "display_name": "nlp",
   "language": "python",
   "name": "python3"
  },
  "language_info": {
   "codemirror_mode": {
    "name": "ipython",
    "version": 3
   },
   "file_extension": ".py",
   "mimetype": "text/x-python",
   "name": "python",
   "nbconvert_exporter": "python",
   "pygments_lexer": "ipython3",
   "version": "3.12.7"
  }
 },
 "nbformat": 4,
 "nbformat_minor": 2
}
