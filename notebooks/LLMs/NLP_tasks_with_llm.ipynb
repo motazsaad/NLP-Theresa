{
 "cells": [
  {
   "cell_type": "markdown",
   "metadata": {},
   "source": [
    "# Text classification with LLM"
   ]
  },
  {
   "cell_type": "code",
   "execution_count": 2,
   "metadata": {},
   "outputs": [
    {
     "name": "stdout",
     "output_type": "stream",
     "text": [
      "Text: This movie was amazing, the acting and storyline were incredible!\n",
      "Classification: positive\n"
     ]
    }
   ],
   "source": [
    "import ollama\n",
    "\n",
    "# Initialize Ollama client\n",
    "client = ollama.Client()\n",
    "\n",
    "# Sample text for classification\n",
    "text = \"This movie was amazing, the acting and storyline were incredible!\"\n",
    "\n",
    "# Send prompt for classification\n",
    "response = client.chat(model='llama3.2:1b', messages=[{\n",
    "    'role': 'system',\n",
    "    'content': 'You are a text classifier. Classify the following text as positive, negative, or neutral. Only respond with one word.'\n",
    "}, {\n",
    "    'role': 'user',\n",
    "    'content': text\n",
    "}])\n",
    "\n",
    "# Get classification result\n",
    "classification = response['message']['content'].strip().lower()\n",
    "print(f\"Text: {text}\")\n",
    "print(f\"Classification: {classification}\")"
   ]
  },
  {
   "cell_type": "code",
   "execution_count": 3,
   "metadata": {},
   "outputs": [
    {
     "name": "stdout",
     "output_type": "stream",
     "text": [
      "Text: I really hate this product, it's terrible!\n",
      "Classification: negative\n",
      "\n",
      "Text: The weather is quite normal today.\n",
      "Classification: positive\n",
      "\n",
      "Text: I absolutely love this new restaurant!\n",
      "Classification: positive\n",
      "\n",
      "Text: This experience was disappointing.\n",
      "Classification: negative\n",
      "\n",
      "Text: The service was okay, nothing special.\n",
      "Classification: negative\n",
      "\n"
     ]
    }
   ],
   "source": [
    "sentences = [\n",
    "    \"I really hate this product, it's terrible!\",\n",
    "    \"The weather is quite normal today.\",\n",
    "    \"I absolutely love this new restaurant!\",\n",
    "    \"This experience was disappointing.\",\n",
    "    \"The service was okay, nothing special.\"\n",
    "]\n",
    "\n",
    "for test_text in sentences:\n",
    "    response = client.chat(model='llama3.2:1b', messages=[{\n",
    "        'role': 'system',\n",
    "        'content': 'You are a text classifier. Classify the following text as positive, negative, or neutral. Only respond with one word.'\n",
    "    }, {\n",
    "        'role': 'user',\n",
    "        'content': test_text\n",
    "    }])\n",
    "    result = response['message']['content'].strip().lower()\n",
    "    print(f\"Text: {test_text}\")\n",
    "    print(f\"Classification: {result}\\n\")"
   ]
  },
  {
   "cell_type": "markdown",
   "metadata": {},
   "source": [
    "# NER with LLM"
   ]
  },
  {
   "cell_type": "code",
   "execution_count": 4,
   "metadata": {},
   "outputs": [
    {
     "name": "stdout",
     "output_type": "stream",
     "text": [
      "Text: Apple CEO Tim Cook announced new iPhone models in California last September.\n",
      "Named Entities:\n"
     ]
    },
    {
     "data": {
      "text/plain": [
       "'{\"entities\": [{\"text\": \"Tim Cook\", \"type\": \"PERSON\"}, {\"text\": \"California\", \"type\": \"LOCATION\"}], \"date\": null, \"product\": \"iPhone\", \"organization\": \"Apple\"}'"
      ]
     },
     "execution_count": 4,
     "metadata": {},
     "output_type": "execute_result"
    }
   ],
   "source": [
    "import json\n",
    "\n",
    "# Sample text for NER\n",
    "sample_text = \"Apple CEO Tim Cook announced new iPhone models in California last September.\"\n",
    "\n",
    "# Send prompt for NER analysis with JSON format request\n",
    "ner_response = client.chat(model='llama3.2:1b', messages=[{\n",
    "    'role': 'system',\n",
    "    'content': 'You are a Named Entity Recognition system. Extract named entities and their types from the text. Return the response in JSON format ONLY like this: {\"entities\": [{\"text\": \"entity\", \"type\": \"ENTITY_TYPE\"}]}. Entity types should be: PERSON, ORGANIZATION, LOCATION, DATE, PRODUCT.'\n",
    "}, {\n",
    "    'role': 'user',\n",
    "    'content': sample_text\n",
    "}])\n",
    "\n",
    "print(f\"Text: {sample_text}\")\n",
    "print(f\"Named Entities:\")\n",
    "ner_response['message']['content']"
   ]
  },
  {
   "cell_type": "code",
   "execution_count": 5,
   "metadata": {},
   "outputs": [
    {
     "name": "stdout",
     "output_type": "stream",
     "text": [
      "{\n",
      "  \"entities\": [\n",
      "    {\n",
      "      \"text\": \"Tim Cook\",\n",
      "      \"type\": \"PERSON\"\n",
      "    },\n",
      "    {\n",
      "      \"text\": \"California\",\n",
      "      \"type\": \"LOCATION\"\n",
      "    }\n",
      "  ],\n",
      "  \"date\": null,\n",
      "  \"product\": \"iPhone\",\n",
      "  \"organization\": \"Apple\"\n",
      "}\n"
     ]
    }
   ],
   "source": [
    "print(json.dumps(json.loads(ner_response['message']['content']), indent=2))"
   ]
  }
 ],
 "metadata": {
  "kernelspec": {
   "display_name": "nlp",
   "language": "python",
   "name": "python3"
  },
  "language_info": {
   "codemirror_mode": {
    "name": "ipython",
    "version": 3
   },
   "file_extension": ".py",
   "mimetype": "text/x-python",
   "name": "python",
   "nbconvert_exporter": "python",
   "pygments_lexer": "ipython3",
   "version": "3.12.7"
  }
 },
 "nbformat": 4,
 "nbformat_minor": 2
}
